{
  "cells": [
    {
      "cell_type": "markdown",
      "metadata": {
        "id": "view-in-github",
        "colab_type": "text"
      },
      "source": [
        "<a href=\"https://colab.research.google.com/github/ks-chauhan/ML-Learning-and-basics-with-PyTorch/blob/main/torchvision_Linear_Regression_model.ipynb\" target=\"_parent\"><img src=\"https://colab.research.google.com/assets/colab-badge.svg\" alt=\"Open In Colab\"/></a>"
      ]
    },
    {
      "cell_type": "code",
      "execution_count": null,
      "metadata": {
        "id": "1iaq7UgHi6m8"
      },
      "outputs": [],
      "source": [
        "import torch\n",
        "from torch import nn\n"
      ]
    },
    {
      "cell_type": "code",
      "execution_count": null,
      "metadata": {
        "id": "q5gYal-w5YSK"
      },
      "outputs": [],
      "source": [
        "import torchvision\n",
        "from torchvision import datasets\n",
        "from torchvision import transforms\n",
        "from torchvision.transforms import ToTensor\n"
      ]
    },
    {
      "cell_type": "code",
      "execution_count": null,
      "metadata": {
        "id": "RPTAHnAy5wDY"
      },
      "outputs": [],
      "source": [
        "import matplotlib.pyplot as plt"
      ]
    },
    {
      "cell_type": "code",
      "execution_count": null,
      "metadata": {
        "colab": {
          "base_uri": "https://localhost:8080/"
        },
        "id": "6Y_1SPPX5ybd",
        "outputId": "ba62c665-3c25-456a-be3b-379edcaf2105"
      },
      "outputs": [
        {
          "name": "stdout",
          "output_type": "stream",
          "text": [
            "2.5.1+cu124\n"
          ]
        }
      ],
      "source": [
        "print (torch.__version__)"
      ]
    },
    {
      "cell_type": "code",
      "execution_count": null,
      "metadata": {
        "colab": {
          "base_uri": "https://localhost:8080/"
        },
        "id": "JQdOKXpx52Ji",
        "outputId": "686c1ab6-8f19-4082-ad28-594e50c91e94"
      },
      "outputs": [
        {
          "name": "stdout",
          "output_type": "stream",
          "text": [
            "0.20.1+cu124\n"
          ]
        }
      ],
      "source": [
        "print (torchvision.__version__)"
      ]
    },
    {
      "cell_type": "code",
      "execution_count": null,
      "metadata": {
        "colab": {
          "base_uri": "https://localhost:8080/"
        },
        "id": "m_-k_fen54k6",
        "outputId": "18177773-0701-42d0-e91a-ca736effecb7"
      },
      "outputs": [
        {
          "name": "stdout",
          "output_type": "stream",
          "text": [
            "Downloading http://fashion-mnist.s3-website.eu-central-1.amazonaws.com/train-images-idx3-ubyte.gz\n",
            "Downloading http://fashion-mnist.s3-website.eu-central-1.amazonaws.com/train-images-idx3-ubyte.gz to data/FashionMNIST/raw/train-images-idx3-ubyte.gz\n"
          ]
        },
        {
          "name": "stderr",
          "output_type": "stream",
          "text": [
            "100%|██████████| 26.4M/26.4M [00:02<00:00, 9.99MB/s]\n"
          ]
        },
        {
          "name": "stdout",
          "output_type": "stream",
          "text": [
            "Extracting data/FashionMNIST/raw/train-images-idx3-ubyte.gz to data/FashionMNIST/raw\n",
            "\n",
            "Downloading http://fashion-mnist.s3-website.eu-central-1.amazonaws.com/train-labels-idx1-ubyte.gz\n",
            "Downloading http://fashion-mnist.s3-website.eu-central-1.amazonaws.com/train-labels-idx1-ubyte.gz to data/FashionMNIST/raw/train-labels-idx1-ubyte.gz\n"
          ]
        },
        {
          "name": "stderr",
          "output_type": "stream",
          "text": [
            "100%|██████████| 29.5k/29.5k [00:00<00:00, 171kB/s]\n"
          ]
        },
        {
          "name": "stdout",
          "output_type": "stream",
          "text": [
            "Extracting data/FashionMNIST/raw/train-labels-idx1-ubyte.gz to data/FashionMNIST/raw\n",
            "\n",
            "Downloading http://fashion-mnist.s3-website.eu-central-1.amazonaws.com/t10k-images-idx3-ubyte.gz\n",
            "Downloading http://fashion-mnist.s3-website.eu-central-1.amazonaws.com/t10k-images-idx3-ubyte.gz to data/FashionMNIST/raw/t10k-images-idx3-ubyte.gz\n"
          ]
        },
        {
          "name": "stderr",
          "output_type": "stream",
          "text": [
            "100%|██████████| 4.42M/4.42M [00:01<00:00, 3.25MB/s]\n"
          ]
        },
        {
          "name": "stdout",
          "output_type": "stream",
          "text": [
            "Extracting data/FashionMNIST/raw/t10k-images-idx3-ubyte.gz to data/FashionMNIST/raw\n",
            "\n",
            "Downloading http://fashion-mnist.s3-website.eu-central-1.amazonaws.com/t10k-labels-idx1-ubyte.gz\n",
            "Downloading http://fashion-mnist.s3-website.eu-central-1.amazonaws.com/t10k-labels-idx1-ubyte.gz to data/FashionMNIST/raw/t10k-labels-idx1-ubyte.gz\n"
          ]
        },
        {
          "name": "stderr",
          "output_type": "stream",
          "text": [
            "100%|██████████| 5.15k/5.15k [00:00<00:00, 12.8MB/s]"
          ]
        },
        {
          "name": "stdout",
          "output_type": "stream",
          "text": [
            "Extracting data/FashionMNIST/raw/t10k-labels-idx1-ubyte.gz to data/FashionMNIST/raw\n",
            "\n"
          ]
        },
        {
          "name": "stderr",
          "output_type": "stream",
          "text": [
            "\n"
          ]
        }
      ],
      "source": [
        "train_data=datasets.FashionMNIST(\n",
        "    root=\"data\",\n",
        "    train=True,\n",
        "    download=True,\n",
        "    transform=torchvision.transforms.ToTensor(),\n",
        "    target_transform=None\n",
        ")\n",
        "test_data=datasets.FashionMNIST(\n",
        "    root=\"data\",\n",
        "    train=False,\n",
        "    download=True,\n",
        "    transform=torchvision.transforms.ToTensor(),\n",
        "    target_transform=None\n",
        ")"
      ]
    },
    {
      "cell_type": "code",
      "execution_count": null,
      "metadata": {
        "colab": {
          "base_uri": "https://localhost:8080/"
        },
        "id": "UxdGhUHhMDck",
        "outputId": "4574090e-8cc7-4c0c-9b5a-9e90b71caa05"
      },
      "outputs": [
        {
          "data": {
            "text/plain": [
              "Dataset FashionMNIST\n",
              "    Number of datapoints: 60000\n",
              "    Root location: data\n",
              "    Split: Train\n",
              "    StandardTransform\n",
              "Transform: ToTensor()"
            ]
          },
          "execution_count": 7,
          "metadata": {},
          "output_type": "execute_result"
        }
      ],
      "source": [
        "train_data"
      ]
    },
    {
      "cell_type": "code",
      "execution_count": null,
      "metadata": {
        "colab": {
          "base_uri": "https://localhost:8080/"
        },
        "id": "gb48heJNMKzF",
        "outputId": "5c8bed19-08cc-40db-b81d-fc4512af54ec"
      },
      "outputs": [
        {
          "data": {
            "text/plain": [
              "(60000, 10000)"
            ]
          },
          "execution_count": 8,
          "metadata": {},
          "output_type": "execute_result"
        }
      ],
      "source": [
        "len(train_data),len(test_data)"
      ]
    },
    {
      "cell_type": "code",
      "execution_count": null,
      "metadata": {
        "id": "UA3ERLtGNddC"
      },
      "outputs": [],
      "source": [
        "image,label=train_data[0]"
      ]
    },
    {
      "cell_type": "code",
      "execution_count": null,
      "metadata": {
        "colab": {
          "base_uri": "https://localhost:8080/"
        },
        "id": "MDBX7CzINweH",
        "outputId": "336f42f6-97c2-4842-9e10-9ced2942e422"
      },
      "outputs": [
        {
          "data": {
            "text/plain": [
              "tensor([[[0.0000, 0.0000, 0.0000, 0.0000, 0.0000, 0.0000, 0.0000, 0.0000,\n",
              "          0.0000, 0.0000, 0.0000, 0.0000, 0.0000, 0.0000, 0.0000, 0.0000,\n",
              "          0.0000, 0.0000, 0.0000, 0.0000, 0.0000, 0.0000, 0.0000, 0.0000,\n",
              "          0.0000, 0.0000, 0.0000, 0.0000],\n",
              "         [0.0000, 0.0000, 0.0000, 0.0000, 0.0000, 0.0000, 0.0000, 0.0000,\n",
              "          0.0000, 0.0000, 0.0000, 0.0000, 0.0000, 0.0000, 0.0000, 0.0000,\n",
              "          0.0000, 0.0000, 0.0000, 0.0000, 0.0000, 0.0000, 0.0000, 0.0000,\n",
              "          0.0000, 0.0000, 0.0000, 0.0000],\n",
              "         [0.0000, 0.0000, 0.0000, 0.0000, 0.0000, 0.0000, 0.0000, 0.0000,\n",
              "          0.0000, 0.0000, 0.0000, 0.0000, 0.0000, 0.0000, 0.0000, 0.0000,\n",
              "          0.0000, 0.0000, 0.0000, 0.0000, 0.0000, 0.0000, 0.0000, 0.0000,\n",
              "          0.0000, 0.0000, 0.0000, 0.0000],\n",
              "         [0.0000, 0.0000, 0.0000, 0.0000, 0.0000, 0.0000, 0.0000, 0.0000,\n",
              "          0.0000, 0.0000, 0.0000, 0.0000, 0.0039, 0.0000, 0.0000, 0.0510,\n",
              "          0.2863, 0.0000, 0.0000, 0.0039, 0.0157, 0.0000, 0.0000, 0.0000,\n",
              "          0.0000, 0.0039, 0.0039, 0.0000],\n",
              "         [0.0000, 0.0000, 0.0000, 0.0000, 0.0000, 0.0000, 0.0000, 0.0000,\n",
              "          0.0000, 0.0000, 0.0000, 0.0000, 0.0118, 0.0000, 0.1412, 0.5333,\n",
              "          0.4980, 0.2431, 0.2118, 0.0000, 0.0000, 0.0000, 0.0039, 0.0118,\n",
              "          0.0157, 0.0000, 0.0000, 0.0118],\n",
              "         [0.0000, 0.0000, 0.0000, 0.0000, 0.0000, 0.0000, 0.0000, 0.0000,\n",
              "          0.0000, 0.0000, 0.0000, 0.0000, 0.0235, 0.0000, 0.4000, 0.8000,\n",
              "          0.6902, 0.5255, 0.5647, 0.4824, 0.0902, 0.0000, 0.0000, 0.0000,\n",
              "          0.0000, 0.0471, 0.0392, 0.0000],\n",
              "         [0.0000, 0.0000, 0.0000, 0.0000, 0.0000, 0.0000, 0.0000, 0.0000,\n",
              "          0.0000, 0.0000, 0.0000, 0.0000, 0.0000, 0.0000, 0.6078, 0.9255,\n",
              "          0.8118, 0.6980, 0.4196, 0.6118, 0.6314, 0.4275, 0.2510, 0.0902,\n",
              "          0.3020, 0.5098, 0.2824, 0.0588],\n",
              "         [0.0000, 0.0000, 0.0000, 0.0000, 0.0000, 0.0000, 0.0000, 0.0000,\n",
              "          0.0000, 0.0000, 0.0000, 0.0039, 0.0000, 0.2706, 0.8118, 0.8745,\n",
              "          0.8549, 0.8471, 0.8471, 0.6392, 0.4980, 0.4745, 0.4784, 0.5725,\n",
              "          0.5529, 0.3451, 0.6745, 0.2588],\n",
              "         [0.0000, 0.0000, 0.0000, 0.0000, 0.0000, 0.0000, 0.0000, 0.0000,\n",
              "          0.0000, 0.0039, 0.0039, 0.0039, 0.0000, 0.7843, 0.9098, 0.9098,\n",
              "          0.9137, 0.8980, 0.8745, 0.8745, 0.8431, 0.8353, 0.6431, 0.4980,\n",
              "          0.4824, 0.7686, 0.8980, 0.0000],\n",
              "         [0.0000, 0.0000, 0.0000, 0.0000, 0.0000, 0.0000, 0.0000, 0.0000,\n",
              "          0.0000, 0.0000, 0.0000, 0.0000, 0.0000, 0.7176, 0.8824, 0.8471,\n",
              "          0.8745, 0.8941, 0.9216, 0.8902, 0.8784, 0.8706, 0.8784, 0.8667,\n",
              "          0.8745, 0.9608, 0.6784, 0.0000],\n",
              "         [0.0000, 0.0000, 0.0000, 0.0000, 0.0000, 0.0000, 0.0000, 0.0000,\n",
              "          0.0000, 0.0000, 0.0000, 0.0000, 0.0000, 0.7569, 0.8941, 0.8549,\n",
              "          0.8353, 0.7765, 0.7059, 0.8314, 0.8235, 0.8275, 0.8353, 0.8745,\n",
              "          0.8627, 0.9529, 0.7922, 0.0000],\n",
              "         [0.0000, 0.0000, 0.0000, 0.0000, 0.0000, 0.0000, 0.0000, 0.0000,\n",
              "          0.0000, 0.0039, 0.0118, 0.0000, 0.0471, 0.8588, 0.8627, 0.8314,\n",
              "          0.8549, 0.7529, 0.6627, 0.8902, 0.8157, 0.8549, 0.8784, 0.8314,\n",
              "          0.8863, 0.7725, 0.8196, 0.2039],\n",
              "         [0.0000, 0.0000, 0.0000, 0.0000, 0.0000, 0.0000, 0.0000, 0.0000,\n",
              "          0.0000, 0.0000, 0.0235, 0.0000, 0.3882, 0.9569, 0.8706, 0.8627,\n",
              "          0.8549, 0.7961, 0.7765, 0.8667, 0.8431, 0.8353, 0.8706, 0.8627,\n",
              "          0.9608, 0.4667, 0.6549, 0.2196],\n",
              "         [0.0000, 0.0000, 0.0000, 0.0000, 0.0000, 0.0000, 0.0000, 0.0000,\n",
              "          0.0000, 0.0157, 0.0000, 0.0000, 0.2157, 0.9255, 0.8941, 0.9020,\n",
              "          0.8941, 0.9412, 0.9098, 0.8353, 0.8549, 0.8745, 0.9176, 0.8510,\n",
              "          0.8510, 0.8196, 0.3608, 0.0000],\n",
              "         [0.0000, 0.0000, 0.0039, 0.0157, 0.0235, 0.0275, 0.0078, 0.0000,\n",
              "          0.0000, 0.0000, 0.0000, 0.0000, 0.9294, 0.8863, 0.8510, 0.8745,\n",
              "          0.8706, 0.8588, 0.8706, 0.8667, 0.8471, 0.8745, 0.8980, 0.8431,\n",
              "          0.8549, 1.0000, 0.3020, 0.0000],\n",
              "         [0.0000, 0.0118, 0.0000, 0.0000, 0.0000, 0.0000, 0.0000, 0.0000,\n",
              "          0.0000, 0.2431, 0.5686, 0.8000, 0.8941, 0.8118, 0.8353, 0.8667,\n",
              "          0.8549, 0.8157, 0.8275, 0.8549, 0.8784, 0.8745, 0.8588, 0.8431,\n",
              "          0.8784, 0.9569, 0.6235, 0.0000],\n",
              "         [0.0000, 0.0000, 0.0000, 0.0000, 0.0706, 0.1725, 0.3216, 0.4196,\n",
              "          0.7412, 0.8941, 0.8627, 0.8706, 0.8510, 0.8863, 0.7843, 0.8039,\n",
              "          0.8275, 0.9020, 0.8784, 0.9176, 0.6902, 0.7373, 0.9804, 0.9725,\n",
              "          0.9137, 0.9333, 0.8431, 0.0000],\n",
              "         [0.0000, 0.2235, 0.7333, 0.8157, 0.8784, 0.8667, 0.8784, 0.8157,\n",
              "          0.8000, 0.8392, 0.8157, 0.8196, 0.7843, 0.6235, 0.9608, 0.7569,\n",
              "          0.8078, 0.8745, 1.0000, 1.0000, 0.8667, 0.9176, 0.8667, 0.8275,\n",
              "          0.8627, 0.9098, 0.9647, 0.0000],\n",
              "         [0.0118, 0.7922, 0.8941, 0.8784, 0.8667, 0.8275, 0.8275, 0.8392,\n",
              "          0.8039, 0.8039, 0.8039, 0.8627, 0.9412, 0.3137, 0.5882, 1.0000,\n",
              "          0.8980, 0.8667, 0.7373, 0.6039, 0.7490, 0.8235, 0.8000, 0.8196,\n",
              "          0.8706, 0.8941, 0.8824, 0.0000],\n",
              "         [0.3843, 0.9137, 0.7765, 0.8235, 0.8706, 0.8980, 0.8980, 0.9176,\n",
              "          0.9765, 0.8627, 0.7608, 0.8431, 0.8510, 0.9451, 0.2549, 0.2863,\n",
              "          0.4157, 0.4588, 0.6588, 0.8588, 0.8667, 0.8431, 0.8510, 0.8745,\n",
              "          0.8745, 0.8784, 0.8980, 0.1137],\n",
              "         [0.2941, 0.8000, 0.8314, 0.8000, 0.7569, 0.8039, 0.8275, 0.8824,\n",
              "          0.8471, 0.7255, 0.7725, 0.8078, 0.7765, 0.8353, 0.9412, 0.7647,\n",
              "          0.8902, 0.9608, 0.9373, 0.8745, 0.8549, 0.8314, 0.8196, 0.8706,\n",
              "          0.8627, 0.8667, 0.9020, 0.2627],\n",
              "         [0.1882, 0.7961, 0.7176, 0.7608, 0.8353, 0.7725, 0.7255, 0.7451,\n",
              "          0.7608, 0.7529, 0.7922, 0.8392, 0.8588, 0.8667, 0.8627, 0.9255,\n",
              "          0.8824, 0.8471, 0.7804, 0.8078, 0.7294, 0.7098, 0.6941, 0.6745,\n",
              "          0.7098, 0.8039, 0.8078, 0.4510],\n",
              "         [0.0000, 0.4784, 0.8588, 0.7569, 0.7020, 0.6706, 0.7176, 0.7686,\n",
              "          0.8000, 0.8235, 0.8353, 0.8118, 0.8275, 0.8235, 0.7843, 0.7686,\n",
              "          0.7608, 0.7490, 0.7647, 0.7490, 0.7765, 0.7529, 0.6902, 0.6118,\n",
              "          0.6549, 0.6941, 0.8235, 0.3608],\n",
              "         [0.0000, 0.0000, 0.2902, 0.7412, 0.8314, 0.7490, 0.6863, 0.6745,\n",
              "          0.6863, 0.7098, 0.7255, 0.7373, 0.7412, 0.7373, 0.7569, 0.7765,\n",
              "          0.8000, 0.8196, 0.8235, 0.8235, 0.8275, 0.7373, 0.7373, 0.7608,\n",
              "          0.7529, 0.8471, 0.6667, 0.0000],\n",
              "         [0.0078, 0.0000, 0.0000, 0.0000, 0.2588, 0.7843, 0.8706, 0.9294,\n",
              "          0.9373, 0.9490, 0.9647, 0.9529, 0.9569, 0.8667, 0.8627, 0.7569,\n",
              "          0.7490, 0.7020, 0.7137, 0.7137, 0.7098, 0.6902, 0.6510, 0.6588,\n",
              "          0.3882, 0.2275, 0.0000, 0.0000],\n",
              "         [0.0000, 0.0000, 0.0000, 0.0000, 0.0000, 0.0000, 0.0000, 0.1569,\n",
              "          0.2392, 0.1725, 0.2824, 0.1608, 0.1373, 0.0000, 0.0000, 0.0000,\n",
              "          0.0000, 0.0000, 0.0000, 0.0000, 0.0000, 0.0000, 0.0000, 0.0000,\n",
              "          0.0000, 0.0000, 0.0000, 0.0000],\n",
              "         [0.0000, 0.0000, 0.0000, 0.0000, 0.0000, 0.0000, 0.0000, 0.0000,\n",
              "          0.0000, 0.0000, 0.0000, 0.0000, 0.0000, 0.0000, 0.0000, 0.0000,\n",
              "          0.0000, 0.0000, 0.0000, 0.0000, 0.0000, 0.0000, 0.0000, 0.0000,\n",
              "          0.0000, 0.0000, 0.0000, 0.0000],\n",
              "         [0.0000, 0.0000, 0.0000, 0.0000, 0.0000, 0.0000, 0.0000, 0.0000,\n",
              "          0.0000, 0.0000, 0.0000, 0.0000, 0.0000, 0.0000, 0.0000, 0.0000,\n",
              "          0.0000, 0.0000, 0.0000, 0.0000, 0.0000, 0.0000, 0.0000, 0.0000,\n",
              "          0.0000, 0.0000, 0.0000, 0.0000]]])"
            ]
          },
          "execution_count": 10,
          "metadata": {},
          "output_type": "execute_result"
        }
      ],
      "source": [
        "image"
      ]
    },
    {
      "cell_type": "code",
      "execution_count": null,
      "metadata": {
        "id": "grNRqzAQNxbN"
      },
      "outputs": [],
      "source": [
        "classes=train_data.classes"
      ]
    },
    {
      "cell_type": "code",
      "execution_count": null,
      "metadata": {
        "colab": {
          "base_uri": "https://localhost:8080/"
        },
        "id": "FUKX-s7OO0Ip",
        "outputId": "4de1bc01-5961-41a9-da97-53c2e5054586"
      },
      "outputs": [
        {
          "data": {
            "text/plain": [
              "['T-shirt/top',\n",
              " 'Trouser',\n",
              " 'Pullover',\n",
              " 'Dress',\n",
              " 'Coat',\n",
              " 'Sandal',\n",
              " 'Shirt',\n",
              " 'Sneaker',\n",
              " 'Bag',\n",
              " 'Ankle boot']"
            ]
          },
          "execution_count": 12,
          "metadata": {},
          "output_type": "execute_result"
        }
      ],
      "source": [
        "classes\n"
      ]
    },
    {
      "cell_type": "code",
      "execution_count": null,
      "metadata": {
        "id": "mkWn6ctWO3dZ"
      },
      "outputs": [],
      "source": [
        "classes_idx=train_data.class_to_idx"
      ]
    },
    {
      "cell_type": "code",
      "execution_count": null,
      "metadata": {
        "colab": {
          "base_uri": "https://localhost:8080/"
        },
        "id": "tfZkU71RPEYu",
        "outputId": "e8e5e908-8abb-4074-8e34-e5d4ff0e1a01"
      },
      "outputs": [
        {
          "data": {
            "text/plain": [
              "{'T-shirt/top': 0,\n",
              " 'Trouser': 1,\n",
              " 'Pullover': 2,\n",
              " 'Dress': 3,\n",
              " 'Coat': 4,\n",
              " 'Sandal': 5,\n",
              " 'Shirt': 6,\n",
              " 'Sneaker': 7,\n",
              " 'Bag': 8,\n",
              " 'Ankle boot': 9}"
            ]
          },
          "execution_count": 14,
          "metadata": {},
          "output_type": "execute_result"
        }
      ],
      "source": [
        "classes_idx"
      ]
    },
    {
      "cell_type": "code",
      "execution_count": null,
      "metadata": {
        "colab": {
          "base_uri": "https://localhost:8080/"
        },
        "id": "UuMMcj70PFUk",
        "outputId": "74c52157-3075-4b87-c3a7-5e4ccd65743c"
      },
      "outputs": [
        {
          "data": {
            "text/plain": [
              "tensor([9, 0, 0, 3, 0, 2, 7, 2, 5, 5, 0, 9, 5, 5, 7, 9, 1, 0, 6, 4, 3, 1, 4, 8,\n",
              "        4, 3, 0, 2, 4, 4, 5, 3, 6, 6, 0, 8, 5, 2, 1, 6, 6, 7, 9, 5, 9, 2, 7, 3,\n",
              "        0, 3, 3, 3, 7, 2, 2, 6, 6, 8, 3, 3, 5, 0, 5, 5, 0, 2, 0, 0, 4, 1, 3, 1,\n",
              "        6, 3, 1, 4, 4, 6, 1, 9, 1, 3, 5, 7, 9, 7, 1, 7, 9, 9, 9, 3, 2, 9, 3, 6,\n",
              "        4, 1, 1, 8])"
            ]
          },
          "execution_count": 15,
          "metadata": {},
          "output_type": "execute_result"
        }
      ],
      "source": [
        "train_data.targets[:100]"
      ]
    },
    {
      "cell_type": "code",
      "execution_count": null,
      "metadata": {
        "colab": {
          "base_uri": "https://localhost:8080/",
          "height": 469
        },
        "id": "6z2SeVbyPlbz",
        "outputId": "02568e58-7720-4066-cb3f-9d09734c7c67"
      },
      "outputs": [
        {
          "data": {
            "text/plain": [
              "Text(0.5, 1.0, 'Ankle boot')"
            ]
          },
          "execution_count": 16,
          "metadata": {},
          "output_type": "execute_result"
        },
        {
          "data": {
            "image/png": "[encoded data removed]",
            "text/plain": [
              "<Figure size 640x480 with 1 Axes>"
            ]
          },
          "metadata": {},
          "output_type": "display_data"
        }
      ],
      "source": [
        "import matplotlib.pyplot as plt\n",
        "image,label=train_data[0]\n",
        "plt.imshow(image.squeeze(),cmap=\"grey\")\n",
        "plt.title(train_data.classes[label])"
      ]
    },
    {
      "cell_type": "code",
      "execution_count": null,
      "metadata": {
        "colab": {
          "base_uri": "https://localhost:8080/"
        },
        "id": "B4PwH5OYWlOl",
        "outputId": "98c62a96-f8e3-43f9-f520-0657f154d7a4"
      },
      "outputs": [
        {
          "data": {
            "text/plain": [
              "837"
            ]
          },
          "execution_count": 17,
          "metadata": {},
          "output_type": "execute_result"
        }
      ],
      "source": [
        "random_idx=torch.randint(0,len(train_data),size=[1]).item()\n",
        "random_idx"
      ]
    },
    {
      "cell_type": "code",
      "execution_count": null,
      "metadata": {
        "colab": {
          "base_uri": "https://localhost:8080/",
          "height": 752
        },
        "id": "0xxz6by2UA4X",
        "outputId": "83f49891-d0e9-47a3-c7c2-081a0fad4cf6"
      },
      "outputs": [
        {
          "data": {
            "image/png": "[encoded data removed]",
            "text/plain": [
              "<Figure size 900x900 with 16 Axes>"
            ]
          },
          "metadata": {},
          "output_type": "display_data"
        }
      ],
      "source": [
        "plt.figure(figsize=(9,9))\n",
        "rows,cols=4,4\n",
        "for i in range(1,(rows*cols+1)):\n",
        "  random_idx=torch.randint(0,len(train_data),size=[1]).item()\n",
        "  image,label=train_data[random_idx]\n",
        "  plt.subplot(rows,cols,i)\n",
        "  plt.imshow(image.squeeze(),cmap=\"grey\")\n",
        "  plt.title(train_data.classes[label])\n",
        "  plt.axis(False)"
      ]
    },
    {
      "cell_type": "code",
      "execution_count": null,
      "metadata": {
        "id": "MkbnJN6UXeEM"
      },
      "outputs": [],
      "source": [
        "from torch.utils.data import DataLoader\n",
        "train_data_loader=DataLoader(dataset=train_data,\n",
        "                             batch_size=32,\n",
        "                             shuffle=True)"
      ]
    },
    {
      "cell_type": "code",
      "execution_count": null,
      "metadata": {
        "id": "mKAWPl-KPuwh"
      },
      "outputs": [],
      "source": [
        "test_data_loader=DataLoader(dataset=test_data,\n",
        "                            batch_size=32,\n",
        "                            shuffle=False)"
      ]
    },
    {
      "cell_type": "code",
      "execution_count": null,
      "metadata": {
        "colab": {
          "base_uri": "https://localhost:8080/"
        },
        "id": "zIXoxZU_U3_n",
        "outputId": "735cfba6-22f1-4a20-8ace-a1de3ef29d31"
      },
      "outputs": [
        {
          "data": {
            "text/plain": [
              "32"
            ]
          },
          "execution_count": 21,
          "metadata": {},
          "output_type": "execute_result"
        }
      ],
      "source": [
        "train_data_loader.batch_size"
      ]
    },
    {
      "cell_type": "code",
      "execution_count": null,
      "metadata": {
        "id": "AFEfbaqgVeIH"
      },
      "outputs": [],
      "source": [
        "train_loader_batch,train_loader_label=next(iter(train_data_loader))"
      ]
    },
    {
      "cell_type": "code",
      "execution_count": null,
      "metadata": {
        "colab": {
          "base_uri": "https://localhost:8080/"
        },
        "id": "qxZv36fUWkHc",
        "outputId": "e180ca32-43a6-48fc-8582-c39938ae6f9f"
      },
      "outputs": [
        {
          "data": {
            "text/plain": [
              "tensor([[[[0., 0., 0.,  ..., 0., 0., 0.],\n",
              "          [0., 0., 0.,  ..., 0., 0., 0.],\n",
              "          [0., 0., 0.,  ..., 0., 0., 0.],\n",
              "          ...,\n",
              "          [0., 0., 0.,  ..., 0., 0., 0.],\n",
              "          [0., 0., 0.,  ..., 0., 0., 0.],\n",
              "          [0., 0., 0.,  ..., 0., 0., 0.]]],\n",
              "\n",
              "\n",
              "        [[[0., 0., 0.,  ..., 0., 0., 0.],\n",
              "          [0., 0., 0.,  ..., 0., 0., 0.],\n",
              "          [0., 0., 0.,  ..., 0., 0., 0.],\n",
              "          ...,\n",
              "          [0., 0., 0.,  ..., 0., 0., 0.],\n",
              "          [0., 0., 0.,  ..., 0., 0., 0.],\n",
              "          [0., 0., 0.,  ..., 0., 0., 0.]]],\n",
              "\n",
              "\n",
              "        [[[0., 0., 0.,  ..., 0., 0., 0.],\n",
              "          [0., 0., 0.,  ..., 0., 0., 0.],\n",
              "          [0., 0., 0.,  ..., 0., 0., 0.],\n",
              "          ...,\n",
              "          [0., 0., 0.,  ..., 0., 0., 0.],\n",
              "          [0., 0., 0.,  ..., 0., 0., 0.],\n",
              "          [0., 0., 0.,  ..., 0., 0., 0.]]],\n",
              "\n",
              "\n",
              "        ...,\n",
              "\n",
              "\n",
              "        [[[0., 0., 0.,  ..., 0., 0., 0.],\n",
              "          [0., 0., 0.,  ..., 0., 0., 0.],\n",
              "          [0., 0., 0.,  ..., 0., 0., 0.],\n",
              "          ...,\n",
              "          [0., 0., 0.,  ..., 0., 0., 0.],\n",
              "          [0., 0., 0.,  ..., 0., 0., 0.],\n",
              "          [0., 0., 0.,  ..., 0., 0., 0.]]],\n",
              "\n",
              "\n",
              "        [[[0., 0., 0.,  ..., 0., 0., 0.],\n",
              "          [0., 0., 0.,  ..., 0., 0., 0.],\n",
              "          [0., 0., 0.,  ..., 0., 0., 0.],\n",
              "          ...,\n",
              "          [0., 0., 0.,  ..., 0., 0., 0.],\n",
              "          [0., 0., 0.,  ..., 0., 0., 0.],\n",
              "          [0., 0., 0.,  ..., 0., 0., 0.]]],\n",
              "\n",
              "\n",
              "        [[[0., 0., 0.,  ..., 0., 0., 0.],\n",
              "          [0., 0., 0.,  ..., 0., 0., 0.],\n",
              "          [0., 0., 0.,  ..., 0., 0., 0.],\n",
              "          ...,\n",
              "          [0., 0., 0.,  ..., 0., 0., 0.],\n",
              "          [0., 0., 0.,  ..., 0., 0., 0.],\n",
              "          [0., 0., 0.,  ..., 0., 0., 0.]]]])"
            ]
          },
          "execution_count": 23,
          "metadata": {},
          "output_type": "execute_result"
        }
      ],
      "source": [
        "train_loader_batch"
      ]
    },
    {
      "cell_type": "code",
      "execution_count": null,
      "metadata": {
        "id": "3QogxZ8AWmJB"
      },
      "outputs": [],
      "source": [
        "random_idx=torch.randint(0,len(train_loader_batch),size=[1]).item()"
      ]
    },
    {
      "cell_type": "code",
      "execution_count": null,
      "metadata": {
        "colab": {
          "base_uri": "https://localhost:8080/"
        },
        "id": "PlsJiVDNX2ra",
        "outputId": "173fef32-b9d2-4c6e-cf76-6c4a78e570e0"
      },
      "outputs": [
        {
          "data": {
            "text/plain": [
              "18"
            ]
          },
          "execution_count": 25,
          "metadata": {},
          "output_type": "execute_result"
        }
      ],
      "source": [
        "random_idx\n"
      ]
    },
    {
      "cell_type": "code",
      "execution_count": null,
      "metadata": {
        "id": "VkjAsvE1YWR2"
      },
      "outputs": [],
      "source": [
        "img,label=train_loader_batch[random_idx],train_loader_label[random_idx]"
      ]
    },
    {
      "cell_type": "code",
      "execution_count": null,
      "metadata": {
        "colab": {
          "base_uri": "https://localhost:8080/",
          "height": 153
        },
        "id": "BfOlqQx5YhvD",
        "outputId": "62633e3e-a0f6-4e40-bfc4-035aebd33a4f"
      },
      "outputs": [
        {
          "data": {
            "text/plain": [
              "(-0.5, 27.5, 27.5, -0.5)"
            ]
          },
          "execution_count": 27,
          "metadata": {},
          "output_type": "execute_result"
        },
        {
          "data": {
            "image/png": "[encoded data removed]",
            "text/plain": [
              "<Figure size 100x100 with 1 Axes>"
            ]
          },
          "metadata": {},
          "output_type": "display_data"
        }
      ],
      "source": [
        "plt.figure(figsize=(1,1))\n",
        "plt.imshow(img.squeeze())\n",
        "plt.title(classes[label])\n",
        "plt.axis(False)"
      ]
    },
    {
      "cell_type": "code",
      "execution_count": null,
      "metadata": {
        "colab": {
          "base_uri": "https://localhost:8080/"
        },
        "id": "32I_ag86Yic2",
        "outputId": "f975d3d0-bc68-416e-e64c-aeec3f825109"
      },
      "outputs": [
        {
          "name": "stdout",
          "output_type": "stream",
          "text": [
            "shape before flattening = torch.Size([32, 1, 28, 28])\n",
            "shape after flattening = torch.Size([32, 784])\n"
          ]
        }
      ],
      "source": [
        "x=train_loader_batch\n",
        "flatten_model=nn.Flatten()\n",
        "output=flatten_model(x)\n",
        "print(f\"shape before flattening = {x.shape}\")#[color channels, height, width]\n",
        "print(f\"shape after flattening = {output.shape}\")#[color channels, height*width]"
      ]
    },
    {
      "cell_type": "code",
      "execution_count": null,
      "metadata": {
        "id": "MWtxF97oOtBW"
      },
      "outputs": [],
      "source": [
        "class FashionMNISTV0(nn.Module):\n",
        "  def __init__(self,\n",
        "               input_shape:int,\n",
        "               hidden_neurons1:int,\n",
        "               hidden_neurons2:int,\n",
        "               hidden_neurons3:int,\n",
        "               output_shape:int):\n",
        "    super().__init__()\n",
        "    self.layer_stack=nn.Sequential(\n",
        "        nn.Flatten(),\n",
        "        nn.Linear(in_features=input_shape,out_features=hidden_neurons1),\n",
        "        nn.Linear(in_features=hidden_neurons1,out_features=hidden_neurons2),\n",
        "        nn.Linear(in_features=hidden_neurons2,out_features=hidden_neurons3),\n",
        "        nn.ReLU(),\n",
        "        nn.Linear(in_features=hidden_neurons3,out_features=output_shape),\n",
        "    )\n",
        "  def forward(self,x:torch.Tensor):\n",
        "    return self.layer_stack(x)"
      ]
    },
    {
      "cell_type": "code",
      "execution_count": null,
      "metadata": {
        "id": "pm74q7WJgDvz"
      },
      "outputs": [],
      "source": [
        "model_0=FashionMNISTV0(input_shape=28*28,\n",
        "                       hidden_neurons1=8,\n",
        "                       hidden_neurons2=32,\n",
        "                       hidden_neurons3=20,\n",
        "                       output_shape=len(classes))"
      ]
    },
    {
      "cell_type": "code",
      "execution_count": null,
      "metadata": {
        "colab": {
          "base_uri": "https://localhost:8080/"
        },
        "id": "PQkvKmOigVMO",
        "outputId": "00d150dc-4a2d-4f8a-d678-b057ff88d964"
      },
      "outputs": [
        {
          "data": {
            "text/plain": [
              "OrderedDict([('layer_stack.1.weight',\n",
              "              tensor([[ 0.0227,  0.0034,  0.0328,  ..., -0.0252,  0.0141,  0.0056],\n",
              "                      [ 0.0295, -0.0088, -0.0022,  ..., -0.0179, -0.0085, -0.0279],\n",
              "                      [ 0.0078, -0.0344,  0.0316,  ..., -0.0129,  0.0266, -0.0038],\n",
              "                      ...,\n",
              "                      [-0.0108,  0.0323, -0.0296,  ...,  0.0298, -0.0207,  0.0065],\n",
              "                      [ 0.0336, -0.0270,  0.0154,  ...,  0.0293,  0.0293,  0.0220],\n",
              "                      [-0.0043, -0.0259,  0.0167,  ..., -0.0217,  0.0054, -0.0023]])),\n",
              "             ('layer_stack.1.bias',\n",
              "              tensor([ 0.0174,  0.0264,  0.0216,  0.0105,  0.0015, -0.0125, -0.0001,  0.0267])),\n",
              "             ('layer_stack.2.weight',\n",
              "              tensor([[-0.2031, -0.0433, -0.1824,  0.1391, -0.2843,  0.1059,  0.1279,  0.0111],\n",
              "                      [ 0.0316, -0.0611,  0.1583,  0.2534,  0.0772,  0.2400, -0.2534,  0.3027],\n",
              "                      [ 0.1315, -0.0709,  0.3452,  0.0454,  0.0287,  0.2169, -0.2263, -0.0531],\n",
              "                      [ 0.1804,  0.2205,  0.1921, -0.1667, -0.0937, -0.2885, -0.2103,  0.0884],\n",
              "                      [ 0.2908, -0.1677,  0.1466, -0.2271,  0.1989, -0.2972, -0.2571, -0.1601],\n",
              "                      [ 0.2990,  0.2742, -0.0209, -0.0497, -0.2477, -0.0275, -0.1615, -0.0014],\n",
              "                      [-0.3492,  0.0319,  0.1922,  0.3112, -0.2477,  0.0549,  0.2578, -0.2372],\n",
              "                      [-0.0676,  0.0256,  0.2287, -0.2794, -0.1915, -0.2866,  0.0343, -0.2714],\n",
              "                      [ 0.2056,  0.3426,  0.1686,  0.2527,  0.1691, -0.2939,  0.0449,  0.1845],\n",
              "                      [ 0.2155, -0.2823,  0.0042, -0.0409,  0.2998, -0.0858, -0.3002,  0.2970],\n",
              "                      [ 0.1106, -0.0589, -0.1412,  0.0082,  0.2966, -0.0572, -0.0135, -0.3053],\n",
              "                      [-0.0889,  0.1601, -0.1139, -0.0237,  0.1906,  0.0527,  0.3371, -0.0210],\n",
              "                      [ 0.3178,  0.1010, -0.0372, -0.1937,  0.2477,  0.2118,  0.3347, -0.3231],\n",
              "                      [ 0.0376,  0.3492, -0.0236, -0.1391,  0.3324, -0.1828, -0.2073, -0.1179],\n",
              "                      [ 0.1533, -0.0354, -0.1214,  0.2756,  0.1547,  0.0011,  0.0604, -0.1055],\n",
              "                      [-0.0964,  0.0184,  0.0396,  0.3413,  0.0609,  0.1579,  0.1296, -0.0950],\n",
              "                      [ 0.1125,  0.2602, -0.1571, -0.1738, -0.0091, -0.2960,  0.2050, -0.2578],\n",
              "                      [-0.1503, -0.1639,  0.0852, -0.0766,  0.0545,  0.3451,  0.0644, -0.0947],\n",
              "                      [ 0.0356, -0.1546, -0.3342,  0.3401, -0.0356,  0.2446,  0.2734,  0.0591],\n",
              "                      [ 0.0882, -0.2731, -0.3164, -0.0641,  0.2764, -0.2962,  0.1813, -0.2749],\n",
              "                      [-0.3270,  0.3467, -0.0558, -0.1492,  0.0335,  0.1110,  0.2325, -0.0271],\n",
              "                      [ 0.1620, -0.3261,  0.0197,  0.0336,  0.2597, -0.2677, -0.1971, -0.0036],\n",
              "                      [ 0.2746, -0.2107, -0.2803,  0.2314,  0.1475, -0.1412,  0.2093, -0.3043],\n",
              "                      [ 0.0812, -0.2725,  0.2427,  0.0205,  0.0949,  0.1563,  0.0907,  0.3272],\n",
              "                      [-0.3238,  0.3339,  0.1555, -0.1957, -0.3197, -0.0241,  0.0799, -0.1292],\n",
              "                      [ 0.3121,  0.2990,  0.1194,  0.3496,  0.3161, -0.1189,  0.3149,  0.3272],\n",
              "                      [-0.2803, -0.1505,  0.1566, -0.3292, -0.1047,  0.3394,  0.3015,  0.1385],\n",
              "                      [ 0.3239, -0.3042, -0.0118,  0.3255, -0.0761, -0.2715, -0.1084,  0.1737],\n",
              "                      [ 0.0164,  0.1572, -0.0767, -0.1612,  0.1767, -0.2171, -0.3060,  0.3060],\n",
              "                      [ 0.2346, -0.0593, -0.0294, -0.2238,  0.2979,  0.2276, -0.1843, -0.2194],\n",
              "                      [-0.1562, -0.2301,  0.2785, -0.0791, -0.1570, -0.2959, -0.3487, -0.0078],\n",
              "                      [ 0.0445,  0.1227,  0.2293,  0.3238, -0.2937, -0.0527, -0.0869, -0.2057]])),\n",
              "             ('layer_stack.2.bias',\n",
              "              tensor([-0.2925,  0.1622,  0.0815, -0.1183,  0.2730, -0.2846, -0.2475,  0.3307,\n",
              "                       0.0692,  0.2212,  0.2019, -0.3480, -0.0410,  0.1329,  0.1981, -0.1170,\n",
              "                       0.2161, -0.2004,  0.2746, -0.1615,  0.2149,  0.2388, -0.3257,  0.1068,\n",
              "                      -0.3092,  0.1158,  0.0469,  0.1236, -0.3506, -0.0440,  0.1357, -0.3171])),\n",
              "             ('layer_stack.3.weight',\n",
              "              tensor([[-0.1467, -0.0021,  0.1174, -0.0557,  0.1255, -0.1184, -0.0528,  0.1283,\n",
              "                       -0.1151,  0.1456,  0.0122,  0.0345, -0.0660, -0.0011, -0.1695, -0.1055,\n",
              "                       -0.0608, -0.0260,  0.0008, -0.0979, -0.0624,  0.0844, -0.1501, -0.1024,\n",
              "                       -0.0797, -0.1514,  0.0196,  0.0394,  0.1731, -0.0506,  0.1280,  0.1488],\n",
              "                      [ 0.0334,  0.0383, -0.1204, -0.0444, -0.0892,  0.0305,  0.1697, -0.0355,\n",
              "                       -0.0840,  0.1281,  0.1312,  0.1008, -0.0985,  0.0815, -0.0021, -0.0004,\n",
              "                       -0.1225,  0.1289,  0.1290,  0.1752, -0.1132,  0.1157, -0.1421, -0.1122,\n",
              "                       -0.1752, -0.1163, -0.1668,  0.0872, -0.0493, -0.1614, -0.0749,  0.0183],\n",
              "                      [-0.1630,  0.0061, -0.1217, -0.0797, -0.1300, -0.0883, -0.1249, -0.0453,\n",
              "                       -0.0162,  0.0264,  0.1385,  0.1104,  0.1052,  0.0939, -0.0437,  0.0559,\n",
              "                       -0.0521, -0.1110, -0.1342,  0.0791, -0.1608, -0.1074, -0.0505, -0.0407,\n",
              "                       -0.0571,  0.1334, -0.1432,  0.0856, -0.0729, -0.1463,  0.1349, -0.0574],\n",
              "                      [ 0.0364, -0.0176,  0.1122,  0.0641, -0.0512,  0.1642, -0.0536, -0.1301,\n",
              "                       -0.1591,  0.0318,  0.0649, -0.0778,  0.1045,  0.0593,  0.1285, -0.0784,\n",
              "                       -0.1469, -0.0898, -0.1494,  0.0203, -0.1369, -0.0758, -0.1393,  0.1213,\n",
              "                       -0.1620, -0.0782,  0.1467,  0.1129, -0.0214,  0.0348,  0.1172, -0.1736],\n",
              "                      [-0.0677, -0.1332, -0.1542, -0.1056,  0.1345, -0.1364, -0.1246, -0.0087,\n",
              "                        0.1003, -0.0800, -0.1067, -0.1748, -0.0859,  0.1401, -0.0779,  0.0328,\n",
              "                        0.0513, -0.1451,  0.1382, -0.0730,  0.1410,  0.0376,  0.1539, -0.1516,\n",
              "                        0.0303,  0.1001, -0.0963, -0.0160, -0.0080, -0.1458, -0.1523,  0.1241],\n",
              "                      [ 0.0055,  0.1451,  0.0238,  0.1440, -0.1025, -0.1315,  0.0034,  0.1586,\n",
              "                       -0.0177, -0.0171, -0.1523,  0.0730,  0.0219, -0.0009, -0.0457,  0.1217,\n",
              "                        0.0008,  0.0694, -0.1587,  0.0878,  0.1702,  0.1177,  0.1488,  0.0635,\n",
              "                        0.1363, -0.0993, -0.0971,  0.0119, -0.1726,  0.1441,  0.0861,  0.1571],\n",
              "                      [-0.1550,  0.0960, -0.0840,  0.0491, -0.0353,  0.1286, -0.1612, -0.1243,\n",
              "                        0.1645, -0.1708, -0.0612,  0.0125,  0.0708,  0.1357, -0.0377, -0.0907,\n",
              "                        0.1731, -0.0602, -0.0581,  0.0340,  0.0510,  0.1316,  0.1306,  0.1694,\n",
              "                       -0.1190, -0.1512,  0.0687, -0.0167, -0.0194,  0.1756,  0.1291,  0.0855],\n",
              "                      [-0.0129,  0.1272,  0.1561,  0.1052, -0.0951,  0.0888,  0.1669,  0.0099,\n",
              "                       -0.0025, -0.1578,  0.1161, -0.1164, -0.0898, -0.1226,  0.0331, -0.1281,\n",
              "                        0.1090,  0.0645, -0.1472, -0.0849, -0.1658,  0.0307, -0.0152, -0.0840,\n",
              "                        0.0760, -0.0025,  0.1604,  0.0693, -0.1179, -0.0205, -0.1125, -0.1651],\n",
              "                      [ 0.0847, -0.1293, -0.1131, -0.0599,  0.1595, -0.1563,  0.0561,  0.1055,\n",
              "                        0.0879,  0.1538, -0.1149,  0.0449, -0.1126, -0.0805, -0.0705,  0.1758,\n",
              "                        0.0094, -0.1295,  0.0217, -0.0068,  0.1472, -0.0009, -0.1202, -0.0382,\n",
              "                        0.1713,  0.0903, -0.1320, -0.1723,  0.0444,  0.1761,  0.0754,  0.1055],\n",
              "                      [ 0.0059,  0.0443, -0.0721,  0.1621, -0.0949,  0.0087, -0.0202,  0.0277,\n",
              "                        0.0857,  0.0232,  0.0158,  0.0737, -0.0105,  0.0771, -0.0476, -0.0008,\n",
              "                        0.0340, -0.0846,  0.1491, -0.0516, -0.1439,  0.0548, -0.0734,  0.1712,\n",
              "                        0.1496,  0.1303, -0.1240,  0.0413, -0.0125,  0.0091, -0.1435, -0.0661],\n",
              "                      [ 0.1487, -0.1398,  0.1181, -0.1690,  0.0563, -0.0462, -0.0554, -0.0465,\n",
              "                       -0.0631,  0.0469,  0.1298,  0.0445, -0.0630, -0.1266, -0.0914, -0.1734,\n",
              "                       -0.0797, -0.0415, -0.1099, -0.0993,  0.1344,  0.1435,  0.0407, -0.0076,\n",
              "                        0.0322,  0.0755, -0.1346, -0.0667, -0.1082,  0.0557, -0.0679,  0.0450],\n",
              "                      [ 0.0560, -0.1764, -0.0142,  0.0727, -0.0265, -0.1182,  0.0069,  0.1664,\n",
              "                       -0.0606,  0.1755,  0.1496, -0.0934, -0.1101,  0.1101, -0.0859, -0.0431,\n",
              "                       -0.1700, -0.1706, -0.1187, -0.0263,  0.1275,  0.0837, -0.0693, -0.0378,\n",
              "                       -0.0476, -0.1616, -0.0899,  0.0582,  0.1580,  0.1058,  0.1182,  0.0080],\n",
              "                      [ 0.0390,  0.0883, -0.0124,  0.0739,  0.1434,  0.1643,  0.0211,  0.0428,\n",
              "                        0.0529, -0.0248, -0.1464,  0.0927, -0.0305, -0.0132,  0.1008, -0.0326,\n",
              "                        0.0119,  0.0494, -0.1083,  0.0695, -0.0086, -0.0805,  0.0775,  0.0607,\n",
              "                        0.0757, -0.0341,  0.0408, -0.0517,  0.1085,  0.0462,  0.0308,  0.0423],\n",
              "                      [ 0.1315, -0.1477, -0.0670,  0.1474,  0.0422,  0.1247,  0.0418, -0.1630,\n",
              "                       -0.1062,  0.0353,  0.1700, -0.1362, -0.0549, -0.0891,  0.0139,  0.0574,\n",
              "                        0.1638,  0.0619,  0.1660, -0.1441, -0.0363, -0.1429, -0.1739, -0.0746,\n",
              "                        0.0978,  0.0556,  0.1151, -0.0329,  0.0382,  0.1349, -0.1508,  0.0042],\n",
              "                      [ 0.0665, -0.1468,  0.0017,  0.1448,  0.0571, -0.0145, -0.0267, -0.0151,\n",
              "                       -0.0362, -0.1637,  0.0763,  0.1728, -0.0183, -0.0930,  0.1423,  0.0741,\n",
              "                       -0.1298,  0.1490, -0.1736,  0.0456,  0.1304,  0.0290, -0.0365, -0.0227,\n",
              "                       -0.1711,  0.1392, -0.1542,  0.0791,  0.1648,  0.0462,  0.1353, -0.1600],\n",
              "                      [ 0.1065, -0.1607, -0.0417,  0.0557,  0.0628, -0.0119,  0.0259, -0.0426,\n",
              "                       -0.0140,  0.1491, -0.0569,  0.1683,  0.1564, -0.0695,  0.0968,  0.0255,\n",
              "                       -0.1312, -0.0449,  0.0380, -0.1614,  0.1170, -0.1675,  0.0440,  0.1605,\n",
              "                        0.0353, -0.0841,  0.0930, -0.0183,  0.0852, -0.1418, -0.0892, -0.1349],\n",
              "                      [-0.0695,  0.1525,  0.1389, -0.0574, -0.0538, -0.0923,  0.0829, -0.1147,\n",
              "                        0.0694,  0.1587,  0.0875, -0.0964,  0.1641, -0.1440, -0.1381,  0.0322,\n",
              "                       -0.0101,  0.0093, -0.0541, -0.1005,  0.1538, -0.0981,  0.0487,  0.1530,\n",
              "                       -0.1736, -0.1082,  0.0904,  0.0348, -0.0567,  0.1235,  0.0858,  0.1405],\n",
              "                      [ 0.1137,  0.0131, -0.1548, -0.1747, -0.0586, -0.0407, -0.0079, -0.0117,\n",
              "                        0.1478, -0.1411, -0.1344, -0.0122,  0.0813, -0.0865, -0.0662, -0.1044,\n",
              "                        0.1508,  0.1142,  0.0745,  0.0428, -0.0507, -0.0224, -0.1054, -0.1527,\n",
              "                       -0.0681,  0.0993, -0.0252, -0.0466, -0.1240,  0.0423,  0.0969, -0.1562],\n",
              "                      [-0.1253,  0.0458,  0.1311, -0.0833, -0.0964,  0.0778,  0.0694,  0.0703,\n",
              "                        0.1014, -0.1139,  0.0559,  0.0713, -0.1518, -0.1675,  0.1624, -0.0615,\n",
              "                        0.0384,  0.0527,  0.0016, -0.0441,  0.0149, -0.0351, -0.0885,  0.0747,\n",
              "                       -0.0056, -0.0394, -0.0513,  0.1201,  0.0665,  0.0035,  0.1205,  0.1051],\n",
              "                      [-0.0592,  0.0482, -0.0650, -0.0691,  0.0695, -0.0158,  0.1409, -0.0754,\n",
              "                        0.1647,  0.0688, -0.0762,  0.1692,  0.1268, -0.0152, -0.1558,  0.0503,\n",
              "                        0.0573,  0.0422, -0.0059,  0.0642,  0.0112, -0.1497, -0.0072,  0.1475,\n",
              "                       -0.1099, -0.1290,  0.1656, -0.0738,  0.1162, -0.1169,  0.0208, -0.1739]])),\n",
              "             ('layer_stack.3.bias',\n",
              "              tensor([ 0.0751,  0.0851, -0.1044, -0.0296, -0.0844,  0.0425, -0.1717,  0.0858,\n",
              "                      -0.1263, -0.0320,  0.1293,  0.0296,  0.1515,  0.1013, -0.1196, -0.1646,\n",
              "                       0.1675, -0.1069,  0.0227, -0.1545])),\n",
              "             ('layer_stack.5.weight',\n",
              "              tensor([[-0.0375, -0.0124, -0.1622,  0.0672,  0.2134, -0.0224, -0.1992,  0.0152,\n",
              "                       -0.0687,  0.1234, -0.1001, -0.1032, -0.1319, -0.1430, -0.0092, -0.0141,\n",
              "                       -0.1401, -0.1482, -0.0075,  0.1629],\n",
              "                      [ 0.0100,  0.1227, -0.1224, -0.2026,  0.2119, -0.2178, -0.0239, -0.1552,\n",
              "                        0.1163, -0.1331, -0.0692, -0.0350, -0.0544, -0.1147, -0.2144,  0.1880,\n",
              "                        0.0805, -0.0025, -0.1688,  0.0062],\n",
              "                      [ 0.0244,  0.0428, -0.1057, -0.0419, -0.0581, -0.1090, -0.2089,  0.0329,\n",
              "                       -0.2155, -0.0249, -0.1865,  0.0257,  0.1336,  0.0696,  0.0071, -0.0196,\n",
              "                        0.2075, -0.0690,  0.1295, -0.2022],\n",
              "                      [ 0.0089,  0.0514, -0.1948, -0.0633,  0.0900,  0.0371,  0.1081, -0.1658,\n",
              "                        0.0623,  0.0505,  0.1169, -0.1041,  0.2072, -0.1288,  0.0994, -0.1801,\n",
              "                        0.0868, -0.0368, -0.2082, -0.0693],\n",
              "                      [-0.1185,  0.0542, -0.0784,  0.1362, -0.1890,  0.0738,  0.1109,  0.1895,\n",
              "                       -0.1462,  0.1150,  0.0087, -0.1760,  0.2022, -0.1670,  0.0767, -0.2141,\n",
              "                        0.1309, -0.1738, -0.1185, -0.2232],\n",
              "                      [-0.1292,  0.0318,  0.1986,  0.0762, -0.0891,  0.1442, -0.1398,  0.1644,\n",
              "                       -0.1276,  0.1387,  0.0325, -0.2200, -0.1037,  0.1790, -0.1616,  0.1420,\n",
              "                       -0.0522,  0.1664,  0.0132, -0.1748],\n",
              "                      [ 0.1237, -0.1738,  0.0661, -0.1459, -0.1329, -0.0220,  0.1921, -0.0778,\n",
              "                        0.2001, -0.1434,  0.1703, -0.0119,  0.1707, -0.1216,  0.1433, -0.2202,\n",
              "                       -0.1213,  0.1266, -0.2063, -0.2199],\n",
              "                      [ 0.0226, -0.1477,  0.1940,  0.0368,  0.2140, -0.1710, -0.0829, -0.1486,\n",
              "                        0.0142, -0.1946,  0.0509, -0.1436, -0.1926, -0.1690,  0.1941,  0.0269,\n",
              "                       -0.0216,  0.2149,  0.0211, -0.1424],\n",
              "                      [ 0.0945, -0.2123,  0.2124,  0.1955,  0.0581, -0.1109, -0.1818,  0.1507,\n",
              "                        0.1987, -0.1784, -0.0640, -0.2074, -0.0920, -0.2032, -0.1027, -0.2214,\n",
              "                       -0.1600,  0.0213,  0.0327, -0.0818],\n",
              "                      [ 0.0051, -0.1359,  0.1479,  0.0275, -0.0443,  0.0192,  0.1079,  0.1684,\n",
              "                        0.0433,  0.0718, -0.1789, -0.0179, -0.0992, -0.0265,  0.0688, -0.1333,\n",
              "                        0.0347,  0.1831,  0.0691, -0.1274]])),\n",
              "             ('layer_stack.5.bias',\n",
              "              tensor([-0.0384, -0.1957, -0.0069, -0.1337, -0.1320, -0.0298, -0.1004, -0.1624,\n",
              "                       0.1287, -0.0078]))])"
            ]
          },
          "execution_count": 31,
          "metadata": {},
          "output_type": "execute_result"
        }
      ],
      "source": [
        "model_0.state_dict()"
      ]
    },
    {
      "cell_type": "code",
      "execution_count": null,
      "metadata": {
        "colab": {
          "base_uri": "https://localhost:8080/"
        },
        "id": "p8bsA3m0giLD",
        "outputId": "78e7856f-8efb-44c1-d1a5-d23f6f45350c"
      },
      "outputs": [
        {
          "data": {
            "text/plain": [
              "tensor([[-0.1183, -0.1803,  0.0667, -0.1091, -0.0915, -0.0033, -0.1906, -0.1965,\n",
              "          0.0160, -0.0209]], grad_fn=<AddmmBackward0>)"
            ]
          },
          "execution_count": 32,
          "metadata": {},
          "output_type": "execute_result"
        }
      ],
      "source": [
        "dummy_x=torch.rand([1,1,28,28])\n",
        "model_0(dummy_x)"
      ]
    },
    {
      "cell_type": "code",
      "execution_count": null,
      "metadata": {
        "id": "eUrWSdo-hIQa"
      },
      "outputs": [],
      "source": [
        "loss_fn=nn.CrossEntropyLoss()\n",
        "optimizer=torch.optim.SGD(params=model_0.parameters(),\n",
        "                           lr=0.025)"
      ]
    },
    {
      "cell_type": "code",
      "execution_count": null,
      "metadata": {
        "colab": {
          "background_save": true,
          "base_uri": "https://localhost:8080/"
        },
        "id": "xt42qHm7iqIM",
        "outputId": "77e9b707-d8db-4ddd-fbf3-90a044c3c5f5"
      },
      "outputs": [
        {
          "name": "stdout",
          "output_type": "stream",
          "text": [
            "Collecting torchmetrics\n",
            "  Downloading torchmetrics-1.6.1-py3-none-any.whl.metadata (21 kB)\n",
            "Requirement already satisfied: numpy>1.20.0 in /usr/local/lib/python3.11/dist-packages (from torchmetrics) (1.26.4)\n",
            "Requirement already satisfied: packaging>17.1 in /usr/local/lib/python3.11/dist-packages (from torchmetrics) (24.2)\n",
            "Requirement already satisfied: torch>=2.0.0 in /usr/local/lib/python3.11/dist-packages (from torchmetrics) (2.5.1+cu124)\n",
            "Collecting lightning-utilities>=0.8.0 (from torchmetrics)\n",
            "  Downloading lightning_utilities-0.12.0-py3-none-any.whl.metadata (5.6 kB)\n",
            "Requirement already satisfied: setuptools in /usr/local/lib/python3.11/dist-packages (from lightning-utilities>=0.8.0->torchmetrics) (75.1.0)\n",
            "Requirement already satisfied: typing_extensions in /usr/local/lib/python3.11/dist-packages (from lightning-utilities>=0.8.0->torchmetrics) (4.12.2)\n",
            "Requirement already satisfied: filelock in /usr/local/lib/python3.11/dist-packages (from torch>=2.0.0->torchmetrics) (3.17.0)\n",
            "Requirement already satisfied: networkx in /usr/local/lib/python3.11/dist-packages (from torch>=2.0.0->torchmetrics) (3.4.2)\n",
            "Requirement already satisfied: jinja2 in /usr/local/lib/python3.11/dist-packages (from torch>=2.0.0->torchmetrics) (3.1.5)\n",
            "Requirement already satisfied: fsspec in /usr/local/lib/python3.11/dist-packages (from torch>=2.0.0->torchmetrics) (2024.10.0)\n",
            "Collecting nvidia-cuda-nvrtc-cu12==12.4.127 (from torch>=2.0.0->torchmetrics)\n",
            "  Downloading nvidia_cuda_nvrtc_cu12-12.4.127-py3-none-manylinux2014_x86_64.whl.metadata (1.5 kB)\n",
            "Collecting nvidia-cuda-runtime-cu12==12.4.127 (from torch>=2.0.0->torchmetrics)\n",
            "  Downloading nvidia_cuda_runtime_cu12-12.4.127-py3-none-manylinux2014_x86_64.whl.metadata (1.5 kB)\n",
            "Collecting nvidia-cuda-cupti-cu12==12.4.127 (from torch>=2.0.0->torchmetrics)\n",
            "  Downloading nvidia_cuda_cupti_cu12-12.4.127-py3-none-manylinux2014_x86_64.whl.metadata (1.6 kB)\n",
            "Collecting nvidia-cudnn-cu12==9.1.0.70 (from torch>=2.0.0->torchmetrics)\n",
            "  Downloading nvidia_cudnn_cu12-9.1.0.70-py3-none-manylinux2014_x86_64.whl.metadata (1.6 kB)\n",
            "Collecting nvidia-cublas-cu12==12.4.5.8 (from torch>=2.0.0->torchmetrics)\n",
            "  Downloading nvidia_cublas_cu12-12.4.5.8-py3-none-manylinux2014_x86_64.whl.metadata (1.5 kB)\n",
            "Collecting nvidia-cufft-cu12==11.2.1.3 (from torch>=2.0.0->torchmetrics)\n",
            "  Downloading nvidia_cufft_cu12-11.2.1.3-py3-none-manylinux2014_x86_64.whl.metadata (1.5 kB)\n",
            "Collecting nvidia-curand-cu12==10.3.5.147 (from torch>=2.0.0->torchmetrics)\n",
            "  Downloading nvidia_curand_cu12-10.3.5.147-py3-none-manylinux2014_x86_64.whl.metadata (1.5 kB)\n",
            "Collecting nvidia-cusolver-cu12==11.6.1.9 (from torch>=2.0.0->torchmetrics)\n",
            "  Downloading nvidia_cusolver_cu12-11.6.1.9-py3-none-manylinux2014_x86_64.whl.metadata (1.6 kB)\n",
            "Collecting nvidia-cusparse-cu12==12.3.1.170 (from torch>=2.0.0->torchmetrics)\n",
            "  Downloading nvidia_cusparse_cu12-12.3.1.170-py3-none-manylinux2014_x86_64.whl.metadata (1.6 kB)\n",
            "Requirement already satisfied: nvidia-nccl-cu12==2.21.5 in /usr/local/lib/python3.11/dist-packages (from torch>=2.0.0->torchmetrics) (2.21.5)\n",
            "Requirement already satisfied: nvidia-nvtx-cu12==12.4.127 in /usr/local/lib/python3.11/dist-packages (from torch>=2.0.0->torchmetrics) (12.4.127)\n",
            "Collecting nvidia-nvjitlink-cu12==12.4.127 (from torch>=2.0.0->torchmetrics)\n",
            "  Downloading nvidia_nvjitlink_cu12-12.4.127-py3-none-manylinux2014_x86_64.whl.metadata (1.5 kB)\n",
            "Requirement already satisfied: triton==3.1.0 in /usr/local/lib/python3.11/dist-packages (from torch>=2.0.0->torchmetrics) (3.1.0)\n",
            "Requirement already satisfied: sympy==1.13.1 in /usr/local/lib/python3.11/dist-packages (from torch>=2.0.0->torchmetrics) (1.13.1)\n",
            "Requirement already satisfied: mpmath<1.4,>=1.1.0 in /usr/local/lib/python3.11/dist-packages (from sympy==1.13.1->torch>=2.0.0->torchmetrics) (1.3.0)\n",
            "Requirement already satisfied: MarkupSafe>=2.0 in /usr/local/lib/python3.11/dist-packages (from jinja2->torch>=2.0.0->torchmetrics) (3.0.2)\n",
            "Downloading torchmetrics-1.6.1-py3-none-any.whl (927 kB)\n",
            "\u001b[2K   \u001b[90m━━━━━━━━━━━━━━━━━━━━━━━━━━━━━━━━━━━━━━━━\u001b[0m \u001b[32m927.3/927.3 kB\u001b[0m \u001b[31m56.2 MB/s\u001b[0m eta \u001b[36m0:00:00\u001b[0m\n",
            "\u001b[?25hDownloading lightning_utilities-0.12.0-py3-none-any.whl (28 kB)\n",
            "Downloading nvidia_cublas_cu12-12.4.5.8-py3-none-manylinux2014_x86_64.whl (363.4 MB)\n",
            "\u001b[2K   \u001b[90m━━━━━━━━━━━━━━━━━━━━━━━━━━━━━━━━━━━━━━━━\u001b[0m \u001b[32m363.4/363.4 MB\u001b[0m \u001b[31m3.8 MB/s\u001b[0m eta \u001b[36m0:00:00\u001b[0m\n",
            "\u001b[?25hDownloading nvidia_cuda_cupti_cu12-12.4.127-py3-none-manylinux2014_x86_64.whl (13.8 MB)\n",
            "\u001b[2K   \u001b[90m━━━━━━━━━━━━━━━━━━━━━━━━━━━━━━━━━━━━━━━━\u001b[0m \u001b[32m13.8/13.8 MB\u001b[0m \u001b[31m27.1 MB/s\u001b[0m eta \u001b[36m0:00:00\u001b[0m\n",
            "\u001b[?25hDownloading nvidia_cuda_nvrtc_cu12-12.4.127-py3-none-manylinux2014_x86_64.whl (24.6 MB)\n",
            "\u001b[2K   \u001b[90m━━━━━━━━━━━━━━━━━━━━━━━━━━━━━━━━━━━━━━━━\u001b[0m \u001b[32m24.6/24.6 MB\u001b[0m \u001b[31m21.6 MB/s\u001b[0m eta \u001b[36m0:00:00\u001b[0m\n",
            "\u001b[?25hDownloading nvidia_cuda_runtime_cu12-12.4.127-py3-none-manylinux2014_x86_64.whl (883 kB)\n",
            "\u001b[2K   \u001b[90m━━━━━━━━━━━━━━━━━━━━━━━━━━━━━━━━━━━━━━━━\u001b[0m \u001b[32m883.7/883.7 kB\u001b[0m \u001b[31m58.6 MB/s\u001b[0m eta \u001b[36m0:00:00\u001b[0m\n",
            "\u001b[?25hDownloading nvidia_cudnn_cu12-9.1.0.70-py3-none-manylinux2014_x86_64.whl (664.8 MB)\n",
            "\u001b[2K   \u001b[90m━━━━━━━━━━━━━━━━━━━━━━━━━━━━━━━━━━━━━━━━\u001b[0m \u001b[32m664.8/664.8 MB\u001b[0m \u001b[31m1.4 MB/s\u001b[0m eta \u001b[36m0:00:00\u001b[0m\n",
            "\u001b[?25hDownloading nvidia_cufft_cu12-11.2.1.3-py3-none-manylinux2014_x86_64.whl (211.5 MB)\n",
            "\u001b[2K   \u001b[90m━━━━━━━━━━━━━━━━━━━━━━━━━━━━━━━━━━━━━━━━\u001b[0m \u001b[32m211.5/211.5 MB\u001b[0m \u001b[31m5.6 MB/s\u001b[0m eta \u001b[36m0:00:00\u001b[0m\n",
            "\u001b[?25hDownloading nvidia_curand_cu12-10.3.5.147-py3-none-manylinux2014_x86_64.whl (56.3 MB)\n",
            "\u001b[2K   \u001b[90m━━━━━━━━━━━━━━━━━━━━━━━━━━━━━━━━━━━━━━━━\u001b[0m \u001b[32m56.3/56.3 MB\u001b[0m \u001b[31m14.8 MB/s\u001b[0m eta \u001b[36m0:00:00\u001b[0m\n",
            "\u001b[?25hDownloading nvidia_cusolver_cu12-11.6.1.9-py3-none-manylinux2014_x86_64.whl (127.9 MB)\n",
            "\u001b[2K   \u001b[90m━━━━━━━━━━━━━━━━━━━━━━━━━━━━━━━━━━━━━━━━\u001b[0m \u001b[32m127.9/127.9 MB\u001b[0m \u001b[31m6.7 MB/s\u001b[0m eta \u001b[36m0:00:00\u001b[0m\n",
            "\u001b[?25hDownloading nvidia_cusparse_cu12-12.3.1.170-py3-none-manylinux2014_x86_64.whl (207.5 MB)\n",
            "\u001b[2K   \u001b[90m━━━━━━━━━━━━━━━━━━━━━━━━━━━━━━━━━━━━━━━━\u001b[0m \u001b[32m207.5/207.5 MB\u001b[0m \u001b[31m5.7 MB/s\u001b[0m eta \u001b[36m0:00:00\u001b[0m\n",
            "\u001b[?25hDownloading nvidia_nvjitlink_cu12-12.4.127-py3-none-manylinux2014_x86_64.whl (21.1 MB)\n",
            "\u001b[2K   \u001b[90m━━━━━━━━━━━━━━━━━━━━━━━━━━━━━━━━━━━━━━━━\u001b[0m \u001b[32m21.1/21.1 MB\u001b[0m \u001b[31m90.9 MB/s\u001b[0m eta \u001b[36m0:00:00\u001b[0m\n",
            "\u001b[?25hInstalling collected packages: nvidia-nvjitlink-cu12, nvidia-curand-cu12, nvidia-cufft-cu12, nvidia-cuda-runtime-cu12, nvidia-cuda-nvrtc-cu12, nvidia-cuda-cupti-cu12, nvidia-cublas-cu12, lightning-utilities, nvidia-cusparse-cu12, nvidia-cudnn-cu12, nvidia-cusolver-cu12, torchmetrics\n",
            "  Attempting uninstall: nvidia-nvjitlink-cu12\n",
            "    Found existing installation: nvidia-nvjitlink-cu12 12.5.82\n",
            "    Uninstalling nvidia-nvjitlink-cu12-12.5.82:\n",
            "      Successfully uninstalled nvidia-nvjitlink-cu12-12.5.82\n",
            "  Attempting uninstall: nvidia-curand-cu12\n",
            "    Found existing installation: nvidia-curand-cu12 10.3.6.82\n",
            "    Uninstalling nvidia-curand-cu12-10.3.6.82:\n",
            "      Successfully uninstalled nvidia-curand-cu12-10.3.6.82\n",
            "  Attempting uninstall: nvidia-cufft-cu12\n",
            "    Found existing installation: nvidia-cufft-cu12 11.2.3.61\n",
            "    Uninstalling nvidia-cufft-cu12-11.2.3.61:\n",
            "      Successfully uninstalled nvidia-cufft-cu12-11.2.3.61\n",
            "  Attempting uninstall: nvidia-cuda-runtime-cu12\n",
            "    Found existing installation: nvidia-cuda-runtime-cu12 12.5.82\n",
            "    Uninstalling nvidia-cuda-runtime-cu12-12.5.82:\n",
            "      Successfully uninstalled nvidia-cuda-runtime-cu12-12.5.82\n",
            "  Attempting uninstall: nvidia-cuda-nvrtc-cu12\n",
            "    Found existing installation: nvidia-cuda-nvrtc-cu12 12.5.82\n",
            "    Uninstalling nvidia-cuda-nvrtc-cu12-12.5.82:\n",
            "      Successfully uninstalled nvidia-cuda-nvrtc-cu12-12.5.82\n",
            "  Attempting uninstall: nvidia-cuda-cupti-cu12\n",
            "    Found existing installation: nvidia-cuda-cupti-cu12 12.5.82\n",
            "    Uninstalling nvidia-cuda-cupti-cu12-12.5.82:\n",
            "      Successfully uninstalled nvidia-cuda-cupti-cu12-12.5.82\n",
            "  Attempting uninstall: nvidia-cublas-cu12\n",
            "    Found existing installation: nvidia-cublas-cu12 12.5.3.2\n",
            "    Uninstalling nvidia-cublas-cu12-12.5.3.2:\n",
            "      Successfully uninstalled nvidia-cublas-cu12-12.5.3.2\n",
            "  Attempting uninstall: nvidia-cusparse-cu12\n",
            "    Found existing installation: nvidia-cusparse-cu12 12.5.1.3\n",
            "    Uninstalling nvidia-cusparse-cu12-12.5.1.3:\n",
            "      Successfully uninstalled nvidia-cusparse-cu12-12.5.1.3\n",
            "  Attempting uninstall: nvidia-cudnn-cu12\n",
            "    Found existing installation: nvidia-cudnn-cu12 9.3.0.75\n",
            "    Uninstalling nvidia-cudnn-cu12-9.3.0.75:\n",
            "      Successfully uninstalled nvidia-cudnn-cu12-9.3.0.75\n",
            "  Attempting uninstall: nvidia-cusolver-cu12\n",
            "    Found existing installation: nvidia-cusolver-cu12 11.6.3.83\n",
            "    Uninstalling nvidia-cusolver-cu12-11.6.3.83:\n",
            "      Successfully uninstalled nvidia-cusolver-cu12-11.6.3.83\n",
            "Successfully installed lightning-utilities-0.12.0 nvidia-cublas-cu12-12.4.5.8 nvidia-cuda-cupti-cu12-12.4.127 nvidia-cuda-nvrtc-cu12-12.4.127 nvidia-cuda-runtime-cu12-12.4.127 nvidia-cudnn-cu12-9.1.0.70 nvidia-cufft-cu12-11.2.1.3 nvidia-curand-cu12-10.3.5.147 nvidia-cusolver-cu12-11.6.1.9 nvidia-cusparse-cu12-12.3.1.170 nvidia-nvjitlink-cu12-12.4.127 torchmetrics-1.6.1\n"
          ]
        }
      ],
      "source": [
        "!pip install torchmetrics\n",
        "from torchmetrics import Accuracy\n"
      ]
    },
    {
      "cell_type": "code",
      "execution_count": null,
      "metadata": {
        "colab": {
          "background_save": true
        },
        "id": "WCwQ0MBRjtkS"
      },
      "outputs": [],
      "source": [
        "from timeit import default_timer\n",
        "def print_train_time(start,\n",
        "                     end,\n",
        "                     device:torch.device=None):\n",
        "  total_time=end-start\n",
        "  print(f\"train time on {device} : {total_time:.3f} seconds\")\n",
        "  return total_time"
      ]
    },
    {
      "cell_type": "code",
      "execution_count": null,
      "metadata": {
        "colab": {
          "background_save": true
        },
        "id": "yHIpggUROeZ9",
        "outputId": "89c09716-d684-439a-e01f-1667a53d2538"
      },
      "outputs": [
        {
          "data": {
            "text/plain": [
              "1875"
            ]
          },
          "execution_count": 36,
          "metadata": {},
          "output_type": "execute_result"
        }
      ],
      "source": [
        "len(train_data_loader)"
      ]
    },
    {
      "cell_type": "code",
      "execution_count": null,
      "metadata": {
        "id": "lmC4sFZLozmT"
      },
      "outputs": [],
      "source": [
        "from tqdm.auto import tqdm\n",
        "torch.manual_seed(18)\n",
        "starting_timer_training=default_timer()\n",
        "epochs=4\n",
        "for epoch in tqdm(range(epochs)):\n",
        "  print(f\"current epoch : {epoch}\")\n",
        "  train_loss=0\n",
        "\n",
        "  for batch, (X,y) in enumerate(train_data_loader):\n",
        "    model_0.train()\n",
        "    pred=model_0(X)\n",
        "    loss=loss_fn(pred,y)\n",
        "    train_loss+=loss\n",
        "    optimizer.zero_grad()\n",
        "    loss.backward()\n",
        "    optimizer.step()\n",
        "\n",
        "    if (batch%400) == 0:\n",
        "      print(f\"looked at {(len(X)*batch)}/{(len(train_data_loader.dataset))}\")\n",
        "  train_loss/=len(train_data_loader)\n",
        "  print(f\"train loss : {train_loss}\")\n",
        "ending_timer_training=default_timer()\n",
        "print_train_time(start=starting_timer_training,end=ending_timer_training)"
      ]
    },
    {
      "cell_type": "code",
      "execution_count": null,
      "metadata": {
        "colab": {
          "background_save": true
        },
        "id": "xsKP15FEMXiK",
        "outputId": "44355af2-9722-438a-bfae-215c009b52da"
      },
      "outputs": [
        {
          "name": "stdout",
          "output_type": "stream",
          "text": [
            "test accuracy : 0.827276357827476\n"
          ]
        }
      ],
      "source": [
        "from torchmetrics.classification import Accuracy\n",
        "Accuracy_metric=Accuracy(task=\"multiclass\",num_classes=10)\n",
        "test_loss,test_accuracy=0,0\n",
        "model_0.eval()\n",
        "with torch.inference_mode():\n",
        "  for X_test,y_test in test_data_loader:\n",
        "    test_pred=model_0(X_test)\n",
        "    test_loss+=loss_fn(test_pred,y_test)\n",
        "    accu=Accuracy_metric((test_pred),y_test)\n",
        "    test_accuracy+=accu.item()\n",
        "  test_accuracy/=len(test_data_loader)\n",
        "  print(f\"test accuracy : {test_accuracy}\")"
      ]
    },
    {
      "cell_type": "code",
      "execution_count": null,
      "metadata": {
        "colab": {
          "background_save": true
        },
        "id": "SD6paxGxRbFh"
      },
      "outputs": [],
      "source": [
        "def model_evaluation(model:torch.nn.Module,\n",
        "                     loss_function:torch.nn.Module,\n",
        "                     data_loader:torch.utils.data.DataLoader,\n",
        "                     accu_metric):\n",
        "  model.eval()\n",
        "  test_loss,accu=0,0\n",
        "  with torch.inference_mode():\n",
        "    for X,y in tqdm(data_loader):\n",
        "      prediction=model(X)\n",
        "      loss=loss_function(prediction,y)\n",
        "      test_loss+=loss\n",
        "      accu+=accu_metric(prediction,y)\n",
        "    accu/=len(data_loader)\n",
        "    test_loss/=len(data_loader)\n",
        "    print(accu,test_loss)\n",
        "\n"
      ]
    },
    {
      "cell_type": "code",
      "execution_count": null,
      "metadata": {
        "colab": {
          "background_save": true,
          "referenced_widgets": [
            "d8fcbfbcb93a4f3bb18613411a04f706"
          ]
        },
        "id": "3G9_7YLLx2D6",
        "outputId": "1e8a2577-a37e-48be-d535-4e4393059486"
      },
      "outputs": [
        {
          "data": {
            "application/vnd.jupyter.widget-view+json": {
              "model_id": "d8fcbfbcb93a4f3bb18613411a04f706",
              "version_major": 2,
              "version_minor": 0
            },
            "text/plain": [
              "  0%|          | 0/313 [00:00<?, ?it/s]"
            ]
          },
          "metadata": {},
          "output_type": "display_data"
        },
        {
          "name": "stdout",
          "output_type": "stream",
          "text": [
            "tensor(0.8273) tensor(0.4779)\n"
          ]
        }
      ],
      "source": [
        "model_evaluation(model=model_0,\n",
        "                 loss_function=loss_fn,\n",
        "                 data_loader=test_data_loader,\n",
        "                 accu_metric=Accuracy_metric)"
      ]
    },
    {
      "cell_type": "code",
      "execution_count": null,
      "metadata": {
        "id": "FRM9YxlC-VZe"
      },
      "outputs": [],
      "source": [
        "((1100)+(1700)+(500))/6,((2000)+(2500)+(500))/6"
      ]
    },
    {
      "cell_type": "code",
      "execution_count": null,
      "metadata": {
        "id": "GQwGiQTtB1wp"
      },
      "outputs": [],
      "source": [
        "device=\"cuda\" if torch.cuda.is_available() else \"cpu\""
      ]
    }
  ],
  "metadata": {
    "accelerator": "GPU",
    "colab": {
      "gpuType": "T4",
      "provenance": [],
      "authorship_tag": "ABX9TyOdAYmGyEDu5iXxGMoab7lM",
      "include_colab_link": true
    },
    "kernelspec": {
      "display_name": "Python 3",
      "name": "python3"
    },
    "language_info": {
      "name": "python"
    }
  },
  "nbformat": 4,
  "nbformat_minor": 0
}